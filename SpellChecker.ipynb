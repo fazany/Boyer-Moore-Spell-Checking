{
  "nbformat": 4,
  "nbformat_minor": 0,
  "metadata": {
    "colab": {
      "name": "SpellChecker.ipynb",
      "provenance": [],
      "collapsed_sections": [],
      "toc_visible": true
    },
    "kernelspec": {
      "name": "python3",
      "display_name": "Python 3"
    },
    "language_info": {
      "name": "python"
    }
  },
  "cells": [
    {
      "cell_type": "markdown",
      "metadata": {
        "id": "tC2p-sC2mDZ7"
      },
      "source": [
        ""
      ]
    },
    {
      "cell_type": "code",
      "metadata": {
        "id": "SOfOGCLTubJr"
      },
      "source": [
        ""
      ],
      "execution_count": null,
      "outputs": []
    },
    {
      "cell_type": "code",
      "metadata": {
        "id": "XqvbXzaG_5TP"
      },
      "source": [
        "#Last Occurence\n",
        "def LastOccurence(word):\n",
        "  for x in alphabet:\n",
        "    index = word.rfind(x) #finds last occurence of each letter\n",
        "    lastOccurence[x] = index"
      ],
      "execution_count": null,
      "outputs": []
    },
    {
      "cell_type": "code",
      "metadata": {
        "id": "F92i1syCHX_v"
      },
      "source": [
        "#Search\n",
        "#If no matches found, return false and index of wrong word. If matched, return true\n",
        "\n",
        "def BoyerMoore(word, dictionary):\n",
        "  word = \",\" + word + \",\" #appending commas before and after the word\n",
        "  dictLength = len(dictionary)\n",
        "  wordLength = len(word)\n",
        "\n",
        "  LastOccurence(word)\n",
        "\n",
        "  shift = 0 #the amount of char we are shifting, starts from 0\n",
        "  while(shift <= dictLength - wordLength): #as long as shift index does not exceed the possible positions for the word\n",
        "    wordIndex = wordLength - 1 #starts from the last character of word\n",
        "\n",
        "    #while character at dictionary & word is the same at the index & shift, keeps on reducing wordIndex by 1\n",
        "    while(wordIndex >= 0 and word[wordIndex] == dictionary[shift + wordIndex]):\n",
        "      wordIndex -= 1\n",
        "\n",
        "    if wordIndex < 0: #if wordIndex goes below 0, that means the word matches with dictionary\n",
        "      return\n",
        "    else: #if no match at current shift, add shift according to the last occurence of mismatched character\n",
        "      shift += max(1, wordIndex - lastOccurence[dictionary[shift + wordIndex]]) #shift 1 if last occured is to the right side of mismatched character\n",
        "\n",
        "  return False #if no matches at all, then word is wrong\n",
        "\n",
        "BoyerMoore(\"balls\", dictionary)"
      ],
      "execution_count": null,
      "outputs": []
    },
    {
      "cell_type": "markdown",
      "metadata": {
        "id": "WpCI5Ec1eIAm"
      },
      "source": [
        "#**MAIN**"
      ]
    },
    {
      "cell_type": "code",
      "metadata": {
        "id": "XKtayJsRaXCV"
      },
      "source": [
        ""
      ],
      "execution_count": null,
      "outputs": []
    },
    {
      "cell_type": "code",
      "metadata": {
        "colab": {
          "base_uri": "https://localhost:8080/"
        },
        "id": "ufEvQUPgkEPN",
        "outputId": "0b527927-bf36-419f-e325-73083373be56"
      },
      "source": [
        "# Full Dictionary\n",
        "\n",
        "dictionary = open(\"fullDict.txt\", \"r\", encoding=\"utf-8\")\n",
        "dictionary = dictionary.read()\n",
        "punctuation= '''!()-[]{};:'\"\\,<>./?@#$%^&*_~'''\n",
        "alphabet= 'abcdefghijklmnopqrstuvwxyz,'\n",
        "lastOccurence = {}\n",
        "result = {}\n",
        "\n",
        "inputText = input(\"Please input a string: \")\n",
        "\n",
        "start = time.process_time()\n",
        "\n",
        "for x in punctuation:\n",
        "  inputText = inputText.replace(x,\"\")\n",
        "\n",
        "wordList = inputText.split(\" \")\n",
        "\n",
        "for x in range(len(wordList)):\n",
        "  wordList[x] = wordList[x][0].lower() + wordList[x][1:]\n",
        "\n",
        "for x in range(len(wordList)):\n",
        "\n",
        "    if(BoyerMoore(wordList[x], dictionary) == False):\n",
        "      result[x + 1] = wordList[x]\n",
        "\n",
        "print(\"Wrong words: \") #output\n",
        "for x in result:\n",
        "  print(\"Word \" + str(x) + \": \" + result[x])\n",
        "\n",
        "print(\"Time allotted: \", time.process_time() - start, \" seconds.\")"
      ],
      "execution_count": null,
      "outputs": [
        {
          "output_type": "stream",
          "text": [
            "Please input a string: I'm going to school\n",
            "WRONG WORDS: \n",
            "TIME TAKEN:  0.02649199199999952  seconds.\n"
          ],
          "name": "stdout"
        }
      ]
    },
    {
      "cell_type": "code",
      "metadata": {
        "id": "q_3rq1YDotvO"
      },
      "source": [
        "# One-by-One Dictionary\n",
        "import time\n",
        "\n",
        "dicA = open(\"dicA.txt\")\n",
        "dicB = open(\"dicB.txt\")\n",
        "dicC = open(\"dicC.txt\")\n",
        "dicD = open(\"dicD.txt\")\n",
        "dicE = open(\"dicE.txt\")\n",
        "dicF = open(\"dicF.txt\")\n",
        "dicG = open(\"dicG.txt\")\n",
        "dicH = open(\"dicH.txt\")\n",
        "dicI = open(\"dicI.txt\")\n",
        "dicJ = open(\"dicJ.txt\")\n",
        "dicK = open(\"dicK.txt\")\n",
        "dicL = open(\"dicL.txt\")\n",
        "dicM = open(\"dicM.txt\")\n",
        "dicN = open(\"dicN.txt\")\n",
        "dicO = open(\"dicO.txt\")\n",
        "dicP = open(\"dicP.txt\")\n",
        "dicQ = open(\"dicQ.txt\")\n",
        "dicR = open(\"dicR.txt\")\n",
        "dicS = open(\"dicS.txt\")\n",
        "dicT = open(\"dicT.txt\")\n",
        "dicU = open(\"dicU.txt\")\n",
        "dicW = open(\"dicW.txt\")\n",
        "dicX = open(\"dicX.txt\")\n",
        "dicY = open(\"dicY.txt\")\n",
        "dicZ = open(\"dicZ.txt\")\n",
        "\n",
        "punctuation= '''!()-[]{};:'\"\\,<>./?@#$%^&*_~'''\n",
        "alphabet= 'abcdefghijklmnopqrstuvwxyz,'\n",
        "lastOccurence = {}\n",
        "result = {}\n",
        "useAlphabet = True #False to use full dictionary, True to use divided dictionaries\n",
        "\n",
        "inputText = input(\"Please input a string: \")\n",
        "\n",
        "start = time.process_time()\n",
        "\n",
        "for x in punctuation:\n",
        "  inputText = inputText.replace(x,\"\")\n",
        "\n",
        "wordList = inputText.split(\" \")\n",
        "\n",
        "for x in range(len(wordList)):\n",
        "  wordList[x] = wordList[x][0].lower() + wordList[x][1:]\n",
        "\n",
        "for x in range(len(wordList)):\n",
        "    if(useAlphabet == True): #replace dictionary to the corresponding one\n",
        "      dictionary = open(\"dic\" + wordList[x][0].upper() + \".txt\")\n",
        "      dictionary = dictionary.read()\n",
        "\n",
        "    if(BoyerMoore(wordList[x], dictionary) == False):\n",
        "      result[x + 1] = wordList[x]\n",
        "\n",
        "print(\"Wrong words: \") #output\n",
        "for x in result:\n",
        "  print(\"Word \" + str(x) + \": \" + result[x])\n",
        "\n",
        "print(\"Time allotted: \", time.process_time() - start, \" seconds.\")"
      ],
      "execution_count": null,
      "outputs": []
    },
    {
      "cell_type": "markdown",
      "metadata": {
        "id": "tMm7S1PqmHJ7"
      },
      "source": [
        "**FULL CODE**"
      ]
    },
    {
      "cell_type": "code",
      "metadata": {
        "id": "APF0-EBfmOWd"
      },
      "source": [
        "import time\n",
        "#Last Occurence\n",
        "def LastOccurence(word):\n",
        "  for x in alphabet:\n",
        "    index = word.rfind(x) #finds last occurence of each letter\n",
        "    lastOccurence[x] = index\n",
        "\n",
        "#Search\n",
        "#If no matches found, return false and index of wrong word. If matched, return true\n",
        "\n",
        "def BoyerMoore(word, dictionary):\n",
        "  word = \",\" + word + \",\" #appending commas before and after the word\n",
        "  dictLength = len(dictionary)\n",
        "  wordLength = len(word)\n",
        "\n",
        "  LastOccurence(word)\n",
        "\n",
        "  shift = 0 #the amount of char we are shifting, starts from 0\n",
        "  while(shift <= dictLength - wordLength): #as long as shift index does not exceed the possible positions for the word\n",
        "    wordIndex = wordLength - 1 #starts from the last character of word\n",
        "\n",
        "    #while character at dictionary & word is the same at the index & shift, keeps on reducing wordIndex by 1\n",
        "    while(wordIndex >= 0 and word[wordIndex] == dictionary[shift + wordIndex]):\n",
        "      wordIndex -= 1\n",
        "\n",
        "    if wordIndex < 0: #if wordIndex goes below 0, that means the word matches with dictionary\n",
        "      return\n",
        "    else: #if no match at current shift, add shift according to the last occurence of mismatched character\n",
        "      shift += max(1, wordIndex - lastOccurence[dictionary[shift + wordIndex]]) #shift 1 if last occured is to the right side of mismatched character\n",
        "\n",
        "  return False #if no matches at all, then word is wrong\n",
        "\n",
        "\n",
        "# MAIN CODE\n",
        "dicA = open(\"dicA.txt\") #dictionary divided into alphabets\n",
        "dicB = open(\"dicB.txt\")\n",
        "dicC = open(\"dicC.txt\")\n",
        "dicD = open(\"dicD.txt\")\n",
        "dicE = open(\"dicE.txt\")\n",
        "dicF = open(\"dicF.txt\")\n",
        "dicG = open(\"dicG.txt\")\n",
        "dicH = open(\"dicH.txt\")\n",
        "dicI = open(\"dicI.txt\")\n",
        "dicJ = open(\"dicJ.txt\")\n",
        "dicK = open(\"dicK.txt\")\n",
        "dicL = open(\"dicL.txt\")\n",
        "dicM = open(\"dicM.txt\")\n",
        "dicN = open(\"dicN.txt\")\n",
        "dicO = open(\"dicO.txt\")\n",
        "dicP = open(\"dicP.txt\")\n",
        "dicQ = open(\"dicQ.txt\")\n",
        "dicR = open(\"dicR.txt\")\n",
        "dicS = open(\"dicS.txt\")\n",
        "dicT = open(\"dicT.txt\")\n",
        "dicU = open(\"dicU.txt\")\n",
        "dicW = open(\"dicW.txt\")\n",
        "dicX = open(\"dicX.txt\")\n",
        "dicY = open(\"dicY.txt\")\n",
        "dicZ = open(\"dicZ.txt\")\n",
        "\n",
        "dictionary = open(\"fullDict.txt\", \"r\", encoding=\"utf-8\") #dictionary\n",
        "dictionary = dictionary.read()\n",
        "\n",
        "punctuation= '''!()-[]{};:'\"\\,<>./?@#$%^&*_~'''\n",
        "alphabet= 'abcdefghijklmnopqrstuvwxyz,'\n",
        "lastOccurence = {}\n",
        "result = {}\n",
        "useAlphabet = True #False to use full dictionary, True to use divided dictionaries\n",
        "\n",
        "inputText = input(\"Please input a string: \")\n",
        "\n",
        "start = time.process_time()\n",
        "\n",
        "for x in punctuation:\n",
        "  inputText = inputText.replace(x,\"\")\n",
        "\n",
        "wordList = inputText.split(\" \")\n",
        "\n",
        "for x in range(len(wordList)):\n",
        "  wordList[x] = wordList[x][0].lower() + wordList[x][1:]\n",
        "\n",
        "for x in range(len(wordList)):\n",
        "    if(useAlphabet == True): #replace dictionary to the corresponding one\n",
        "      dictionary = open(\"dic\" + wordList[x][0].upper() + \".txt\")\n",
        "      dictionary = dictionary.read()\n",
        "\n",
        "    if(BoyerMoore(wordList[x], dictionary) == False):\n",
        "      result[x + 1] = wordList[x]\n",
        "\n",
        "if(len(result) > 0): #if result array not empty, at least 1 word is mispelled\n",
        "  print(\"Wrong words: \") #output\n",
        "  for x in result:\n",
        "    print(\"Word \" + str(x) + \": \" + result[x])\n",
        "else:\n",
        "  print(\"No wrong words detected\")\n",
        "\n",
        "print(\"Time allotted: \", time.process_time() - start, \" seconds.\")"
      ],
      "execution_count": null,
      "outputs": []
    }
  ]
}